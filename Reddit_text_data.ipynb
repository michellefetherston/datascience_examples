{
 "cells": [
  {
   "attachments": {},
   "cell_type": "markdown",
   "id": "da97052f",
   "metadata": {},
   "source": [
    "# Class Assignment NLP on social media data\n"
   ]
  },
  {
   "cell_type": "code",
   "execution_count": 1,
   "id": "e5e84e50",
   "metadata": {},
   "outputs": [
    {
     "data": {
      "text/html": [
       "<div>\n",
       "<style scoped>\n",
       "    .dataframe tbody tr th:only-of-type {\n",
       "        vertical-align: middle;\n",
       "    }\n",
       "\n",
       "    .dataframe tbody tr th {\n",
       "        vertical-align: top;\n",
       "    }\n",
       "\n",
       "    .dataframe thead th {\n",
       "        text-align: right;\n",
       "    }\n",
       "</style>\n",
       "<table border=\"1\" class=\"dataframe\">\n",
       "  <thead>\n",
       "    <tr style=\"text-align: right;\">\n",
       "      <th></th>\n",
       "      <th>title</th>\n",
       "      <th>link</th>\n",
       "      <th>author</th>\n",
       "      <th>n_comments</th>\n",
       "      <th>score</th>\n",
       "      <th>text</th>\n",
       "    </tr>\n",
       "  </thead>\n",
       "  <tbody>\n",
       "    <tr>\n",
       "      <th>0</th>\n",
       "      <td>Proof of Concept: It's getting cold out, so I ...</td>\n",
       "      <td>/r/ebikes/comments/dyy9uu/proof_of_concept_its...</td>\n",
       "      <td>professor_pouncey</td>\n",
       "      <td>211</td>\n",
       "      <td>4109</td>\n",
       "      <td></td>\n",
       "    </tr>\n",
       "    <tr>\n",
       "      <th>1</th>\n",
       "      <td>Hope I don't move somewhere with low limits fo...</td>\n",
       "      <td>/r/ebikes/comments/gx8ts8/hope_i_dont_move_som...</td>\n",
       "      <td>ARCtrooper97</td>\n",
       "      <td>72</td>\n",
       "      <td>1240</td>\n",
       "      <td></td>\n",
       "    </tr>\n",
       "    <tr>\n",
       "      <th>2</th>\n",
       "      <td>No noise. No gas. All class. My custom build.</td>\n",
       "      <td>/r/ebikes/comments/o4q7w4/no_noise_no_gas_all_...</td>\n",
       "      <td>enjoy_your_minutes</td>\n",
       "      <td>147</td>\n",
       "      <td>1022</td>\n",
       "      <td></td>\n",
       "    </tr>\n",
       "    <tr>\n",
       "      <th>3</th>\n",
       "      <td>I have Multiple Sclerosis and my ebike has cha...</td>\n",
       "      <td>/r/ebikes/comments/w1hpj9/i_have_multiple_scle...</td>\n",
       "      <td>joeyjojoeshabadoo</td>\n",
       "      <td>83</td>\n",
       "      <td>1013</td>\n",
       "      <td></td>\n",
       "    </tr>\n",
       "    <tr>\n",
       "      <th>4</th>\n",
       "      <td>Lol</td>\n",
       "      <td>/r/ebikes/comments/i2czwr/lol/</td>\n",
       "      <td>johnnyrottenballs</td>\n",
       "      <td>43</td>\n",
       "      <td>948</td>\n",
       "      <td></td>\n",
       "    </tr>\n",
       "    <tr>\n",
       "      <th>...</th>\n",
       "      <td>...</td>\n",
       "      <td>...</td>\n",
       "      <td>...</td>\n",
       "      <td>...</td>\n",
       "      <td>...</td>\n",
       "      <td>...</td>\n",
       "    </tr>\n",
       "    <tr>\n",
       "      <th>995</th>\n",
       "      <td>Night rider. Luna x1, 1200 Lumans on the bar, ...</td>\n",
       "      <td>/r/ebikes/comments/h051i8/night_rider_luna_x1_...</td>\n",
       "      <td>snowystormz</td>\n",
       "      <td>26</td>\n",
       "      <td>134</td>\n",
       "      <td></td>\n",
       "    </tr>\n",
       "    <tr>\n",
       "      <th>996</th>\n",
       "      <td>quick shot from todays ride</td>\n",
       "      <td>/r/ebikes/comments/gnmjmx/quick_shot_from_toda...</td>\n",
       "      <td>LearyDisciple</td>\n",
       "      <td>22</td>\n",
       "      <td>131</td>\n",
       "      <td></td>\n",
       "    </tr>\n",
       "    <tr>\n",
       "      <th>997</th>\n",
       "      <td>My first ebike! Excited to use it to commute t...</td>\n",
       "      <td>/r/ebikes/comments/g254yo/my_first_ebike_excit...</td>\n",
       "      <td>AllieKat7</td>\n",
       "      <td>28</td>\n",
       "      <td>134</td>\n",
       "      <td></td>\n",
       "    </tr>\n",
       "    <tr>\n",
       "      <th>998</th>\n",
       "      <td>50% of my daily commute</td>\n",
       "      <td>/r/ebikes/comments/fs2gjq/50_of_my_daily_commute/</td>\n",
       "      <td>PoB419</td>\n",
       "      <td>12</td>\n",
       "      <td>137</td>\n",
       "      <td></td>\n",
       "    </tr>\n",
       "    <tr>\n",
       "      <th>999</th>\n",
       "      <td>eBike on a Bridge - RadWagon cargo bike (tarte...</td>\n",
       "      <td>/r/ebikes/comments/ejykzy/ebike_on_a_bridge_ra...</td>\n",
       "      <td>DrBlue42</td>\n",
       "      <td>16</td>\n",
       "      <td>136</td>\n",
       "      <td></td>\n",
       "    </tr>\n",
       "  </tbody>\n",
       "</table>\n",
       "<p>1000 rows × 6 columns</p>\n",
       "</div>"
      ],
      "text/plain": [
       "                                                 title  \\\n",
       "0    Proof of Concept: It's getting cold out, so I ...   \n",
       "1    Hope I don't move somewhere with low limits fo...   \n",
       "2        No noise. No gas. All class. My custom build.   \n",
       "3    I have Multiple Sclerosis and my ebike has cha...   \n",
       "4                                                  Lol   \n",
       "..                                                 ...   \n",
       "995  Night rider. Luna x1, 1200 Lumans on the bar, ...   \n",
       "996                        quick shot from todays ride   \n",
       "997  My first ebike! Excited to use it to commute t...   \n",
       "998                            50% of my daily commute   \n",
       "999  eBike on a Bridge - RadWagon cargo bike (tarte...   \n",
       "\n",
       "                                                  link              author  \\\n",
       "0    /r/ebikes/comments/dyy9uu/proof_of_concept_its...   professor_pouncey   \n",
       "1    /r/ebikes/comments/gx8ts8/hope_i_dont_move_som...        ARCtrooper97   \n",
       "2    /r/ebikes/comments/o4q7w4/no_noise_no_gas_all_...  enjoy_your_minutes   \n",
       "3    /r/ebikes/comments/w1hpj9/i_have_multiple_scle...   joeyjojoeshabadoo   \n",
       "4                       /r/ebikes/comments/i2czwr/lol/   johnnyrottenballs   \n",
       "..                                                 ...                 ...   \n",
       "995  /r/ebikes/comments/h051i8/night_rider_luna_x1_...         snowystormz   \n",
       "996  /r/ebikes/comments/gnmjmx/quick_shot_from_toda...       LearyDisciple   \n",
       "997  /r/ebikes/comments/g254yo/my_first_ebike_excit...           AllieKat7   \n",
       "998  /r/ebikes/comments/fs2gjq/50_of_my_daily_commute/              PoB419   \n",
       "999  /r/ebikes/comments/ejykzy/ebike_on_a_bridge_ra...            DrBlue42   \n",
       "\n",
       "     n_comments  score text  \n",
       "0           211   4109       \n",
       "1            72   1240       \n",
       "2           147   1022       \n",
       "3            83   1013       \n",
       "4            43    948       \n",
       "..          ...    ...  ...  \n",
       "995          26    134       \n",
       "996          22    131       \n",
       "997          28    134       \n",
       "998          12    137       \n",
       "999          16    136       \n",
       "\n",
       "[1000 rows x 6 columns]"
      ]
     },
     "execution_count": 1,
     "metadata": {},
     "output_type": "execute_result"
    }
   ],
   "source": [
    "import sqlite3\n",
    "import pandas as pd\n",
    "\n",
    "con = sqlite3.connect('/Users/mafphd/Documents/Data Science/Regis Grad Certificate/MSDS 600 Intro to Data Science/Week 7/ebikes_reddit.sqlite')\n",
    "df = pd.read_sql_query('SELECT * from posts;', con)\n",
    "con.close()\n",
    "df\n"
   ]
  },
  {
   "cell_type": "code",
   "execution_count": 3,
   "id": "5894fedc",
   "metadata": {},
   "outputs": [
    {
     "name": "stdout",
     "output_type": "stream",
     "text": [
      "Collecting package metadata (current_repodata.json): done\n",
      "Solving environment: done\n",
      "\n",
      "## Package Plan ##\n",
      "\n",
      "  environment location: /Users/mafphd/opt/anaconda3\n",
      "\n",
      "  added / updated specs:\n",
      "    - textblob\n",
      "    - vadersentiment\n",
      "\n",
      "\n",
      "The following packages will be downloaded:\n",
      "\n",
      "    package                    |            build\n",
      "    ---------------------------|-----------------\n",
      "    conda-4.14.0               |   py39h6e9494a_0        1022 KB  conda-forge\n",
      "    vadersentiment-3.3.2       |     pyhd8ed1ab_0         100 KB  conda-forge\n",
      "    ------------------------------------------------------------\n",
      "                                           Total:         1.1 MB\n",
      "\n",
      "The following NEW packages will be INSTALLED:\n",
      "\n",
      "  vadersentiment     conda-forge/noarch::vadersentiment-3.3.2-pyhd8ed1ab_0\n",
      "\n",
      "The following packages will be UPDATED:\n",
      "\n",
      "  conda                               4.13.0-py39h6e9494a_1 --> 4.14.0-py39h6e9494a_0\n",
      "\n",
      "\n",
      "\n",
      "Downloading and Extracting Packages\n",
      "vadersentiment-3.3.2 | 100 KB    | ##################################### | 100% \n",
      "conda-4.14.0         | 1022 KB   | ##################################### | 100% \n",
      "Preparing transaction: done\n",
      "Verifying transaction: done\n",
      "Executing transaction: done\n",
      "\n",
      "Note: you may need to restart the kernel to use updated packages.\n"
     ]
    }
   ],
   "source": [
    "conda install -c conda-forge textblob vadersentiment -y"
   ]
  },
  {
   "cell_type": "code",
   "execution_count": 4,
   "id": "3ac21aaf",
   "metadata": {},
   "outputs": [],
   "source": [
    "from textblob import TextBlob"
   ]
  },
  {
   "cell_type": "code",
   "execution_count": 5,
   "id": "ccc7a197",
   "metadata": {},
   "outputs": [],
   "source": [
    "def get_tb_sentiment(text):\n",
    "    tb = TextBlob(text)\n",
    "    return tb.sentiment[0]\n",
    "\n",
    "df['tb_sentiment'] = df['title'].apply(get_tb_sentiment)"
   ]
  },
  {
   "cell_type": "code",
   "execution_count": 6,
   "id": "13f2dedb",
   "metadata": {},
   "outputs": [
    {
     "data": {
      "text/plain": [
       "<AxesSubplot:ylabel='Frequency'>"
      ]
     },
     "execution_count": 6,
     "metadata": {},
     "output_type": "execute_result"
    },
    {
     "data": {
      "image/png": "[encoded data removed]",
      "text/plain": [
       "<Figure size 432x288 with 1 Axes>"
      ]
     },
     "metadata": {
      "needs_background": "light"
     },
     "output_type": "display_data"
    }
   ],
   "source": [
    "df['tb_sentiment'].plot.hist(bins=30)"
   ]
  },
  {
   "cell_type": "code",
   "execution_count": 9,
   "id": "d1ef85a4",
   "metadata": {},
   "outputs": [
    {
     "data": {
      "text/plain": [
       "0.1083971943161006"
      ]
     },
     "execution_count": 9,
     "metadata": {},
     "output_type": "execute_result"
    }
   ],
   "source": [
    "df['tb_sentiment'].mean()"
   ]
  },
  {
   "cell_type": "code",
   "execution_count": 10,
   "id": "e32a53b5",
   "metadata": {},
   "outputs": [
    {
     "data": {
      "text/plain": [
       "0.0"
      ]
     },
     "execution_count": 10,
     "metadata": {},
     "output_type": "execute_result"
    }
   ],
   "source": [
    "df['tb_sentiment'].median()"
   ]
  },
  {
   "cell_type": "code",
   "execution_count": 11,
   "id": "9a1422d8",
   "metadata": {},
   "outputs": [
    {
     "data": {
      "text/plain": [
       "0.24757884243006661"
      ]
     },
     "execution_count": 11,
     "metadata": {},
     "output_type": "execute_result"
    }
   ],
   "source": [
    "import statistics\n",
    "statistics.stdev(df['tb_sentiment'])"
   ]
  },
  {
   "cell_type": "code",
   "execution_count": 13,
   "id": "deca54b7",
   "metadata": {},
   "outputs": [
    {
     "data": {
      "text/html": [
       "<div>\n",
       "<style scoped>\n",
       "    .dataframe tbody tr th:only-of-type {\n",
       "        vertical-align: middle;\n",
       "    }\n",
       "\n",
       "    .dataframe tbody tr th {\n",
       "        vertical-align: top;\n",
       "    }\n",
       "\n",
       "    .dataframe thead th {\n",
       "        text-align: right;\n",
       "    }\n",
       "</style>\n",
       "<table border=\"1\" class=\"dataframe\">\n",
       "  <thead>\n",
       "    <tr style=\"text-align: right;\">\n",
       "      <th></th>\n",
       "      <th>title</th>\n",
       "      <th>link</th>\n",
       "      <th>author</th>\n",
       "      <th>n_comments</th>\n",
       "      <th>score</th>\n",
       "      <th>text</th>\n",
       "      <th>tb_sentiment</th>\n",
       "    </tr>\n",
       "  </thead>\n",
       "  <tbody>\n",
       "    <tr>\n",
       "      <th>101</th>\n",
       "      <td>I have to say, some of the Facebook ebike grou...</td>\n",
       "      <td>/r/ebikes/comments/wdhjab/i_have_to_say_some_o...</td>\n",
       "      <td>waitwaitdontt3llme</td>\n",
       "      <td>229</td>\n",
       "      <td>335</td>\n",
       "      <td></td>\n",
       "      <td>-1.000000</td>\n",
       "    </tr>\n",
       "    <tr>\n",
       "      <th>756</th>\n",
       "      <td>Made it through sugar cane fields and up an in...</td>\n",
       "      <td>/r/ebikes/comments/hegiu9/made_it_through_suga...</td>\n",
       "      <td>mielieboer</td>\n",
       "      <td>13</td>\n",
       "      <td>153</td>\n",
       "      <td></td>\n",
       "      <td>-1.000000</td>\n",
       "    </tr>\n",
       "    <tr>\n",
       "      <th>364</th>\n",
       "      <td>Coworkers: \"I hate traffic home\" - Me:</td>\n",
       "      <td>/r/ebikes/comments/9mpcoz/coworkers_i_hate_tra...</td>\n",
       "      <td>Lakus</td>\n",
       "      <td>27</td>\n",
       "      <td>210</td>\n",
       "      <td></td>\n",
       "      <td>-0.800000</td>\n",
       "    </tr>\n",
       "    <tr>\n",
       "      <th>165</th>\n",
       "      <td>Friday morning LA bike ride (because my wife i...</td>\n",
       "      <td>/r/ebikes/comments/ms6otv/friday_morning_la_bi...</td>\n",
       "      <td>daftmonkey</td>\n",
       "      <td>49</td>\n",
       "      <td>281</td>\n",
       "      <td></td>\n",
       "      <td>-0.757143</td>\n",
       "    </tr>\n",
       "    <tr>\n",
       "      <th>440</th>\n",
       "      <td>Sorry for the terrible quality creeper shot - ...</td>\n",
       "      <td>/r/ebikes/comments/d26whp/sorry_for_the_terrib...</td>\n",
       "      <td>Madasiaka</td>\n",
       "      <td>17</td>\n",
       "      <td>195</td>\n",
       "      <td></td>\n",
       "      <td>-0.750000</td>\n",
       "    </tr>\n",
       "  </tbody>\n",
       "</table>\n",
       "</div>"
      ],
      "text/plain": [
       "                                                 title  \\\n",
       "101  I have to say, some of the Facebook ebike grou...   \n",
       "756  Made it through sugar cane fields and up an in...   \n",
       "364             Coworkers: \"I hate traffic home\" - Me:   \n",
       "165  Friday morning LA bike ride (because my wife i...   \n",
       "440  Sorry for the terrible quality creeper shot - ...   \n",
       "\n",
       "                                                  link              author  \\\n",
       "101  /r/ebikes/comments/wdhjab/i_have_to_say_some_o...  waitwaitdontt3llme   \n",
       "756  /r/ebikes/comments/hegiu9/made_it_through_suga...          mielieboer   \n",
       "364  /r/ebikes/comments/9mpcoz/coworkers_i_hate_tra...               Lakus   \n",
       "165  /r/ebikes/comments/ms6otv/friday_morning_la_bi...          daftmonkey   \n",
       "440  /r/ebikes/comments/d26whp/sorry_for_the_terrib...           Madasiaka   \n",
       "\n",
       "     n_comments  score text  tb_sentiment  \n",
       "101         229    335          -1.000000  \n",
       "756          13    153          -1.000000  \n",
       "364          27    210          -0.800000  \n",
       "165          49    281          -0.757143  \n",
       "440          17    195          -0.750000  "
      ]
     },
     "execution_count": 13,
     "metadata": {},
     "output_type": "execute_result"
    }
   ],
   "source": [
    "df.nsmallest(n=5, columns=['tb_sentiment'])"
   ]
  },
  {
   "cell_type": "code",
   "execution_count": 15,
   "id": "aab3a6a7",
   "metadata": {},
   "outputs": [
    {
     "data": {
      "text/html": [
       "<div>\n",
       "<style scoped>\n",
       "    .dataframe tbody tr th:only-of-type {\n",
       "        vertical-align: middle;\n",
       "    }\n",
       "\n",
       "    .dataframe tbody tr th {\n",
       "        vertical-align: top;\n",
       "    }\n",
       "\n",
       "    .dataframe thead th {\n",
       "        text-align: right;\n",
       "    }\n",
       "</style>\n",
       "<table border=\"1\" class=\"dataframe\">\n",
       "  <thead>\n",
       "    <tr style=\"text-align: right;\">\n",
       "      <th></th>\n",
       "      <th>title</th>\n",
       "      <th>link</th>\n",
       "      <th>author</th>\n",
       "      <th>n_comments</th>\n",
       "      <th>score</th>\n",
       "      <th>text</th>\n",
       "      <th>tb_sentiment</th>\n",
       "    </tr>\n",
       "  </thead>\n",
       "  <tbody>\n",
       "    <tr>\n",
       "      <th>12</th>\n",
       "      <td>As a Truck Driver, Buying an ebike was the bes...</td>\n",
       "      <td>/r/ebikes/comments/q5esa6/as_a_truck_driver_bu...</td>\n",
       "      <td>-life_starts_now-</td>\n",
       "      <td>63</td>\n",
       "      <td>727</td>\n",
       "      <td></td>\n",
       "      <td>1.0</td>\n",
       "    </tr>\n",
       "    <tr>\n",
       "      <th>353</th>\n",
       "      <td>Getting an e-bike was one of the best decision...</td>\n",
       "      <td>/r/ebikes/comments/ijop0k/getting_an_ebike_was...</td>\n",
       "      <td>LukeVenable</td>\n",
       "      <td>39</td>\n",
       "      <td>212</td>\n",
       "      <td></td>\n",
       "      <td>1.0</td>\n",
       "    </tr>\n",
       "    <tr>\n",
       "      <th>395</th>\n",
       "      <td>Thankfully I was wearing my good helmet!!!</td>\n",
       "      <td>/r/ebikes/comments/tn9ka4/thankfully_i_was_wea...</td>\n",
       "      <td>EERCom</td>\n",
       "      <td>70</td>\n",
       "      <td>200</td>\n",
       "      <td></td>\n",
       "      <td>1.0</td>\n",
       "    </tr>\n",
       "    <tr>\n",
       "      <th>522</th>\n",
       "      <td>“The perfect bike doesn’t ex—-“</td>\n",
       "      <td>/r/ebikes/comments/mf4y8x/the_perfect_bike_doe...</td>\n",
       "      <td>RentalGore</td>\n",
       "      <td>118</td>\n",
       "      <td>178</td>\n",
       "      <td></td>\n",
       "      <td>1.0</td>\n",
       "    </tr>\n",
       "    <tr>\n",
       "      <th>529</th>\n",
       "      <td>ebike + pup = awesome!</td>\n",
       "      <td>/r/ebikes/comments/lq3kgs/ebike_pup_awesome/</td>\n",
       "      <td>nervagon</td>\n",
       "      <td>18</td>\n",
       "      <td>178</td>\n",
       "      <td></td>\n",
       "      <td>1.0</td>\n",
       "    </tr>\n",
       "  </tbody>\n",
       "</table>\n",
       "</div>"
      ],
      "text/plain": [
       "                                                 title  \\\n",
       "12   As a Truck Driver, Buying an ebike was the bes...   \n",
       "353  Getting an e-bike was one of the best decision...   \n",
       "395         Thankfully I was wearing my good helmet!!!   \n",
       "522                    “The perfect bike doesn’t ex—-“   \n",
       "529                             ebike + pup = awesome!   \n",
       "\n",
       "                                                  link             author  \\\n",
       "12   /r/ebikes/comments/q5esa6/as_a_truck_driver_bu...  -life_starts_now-   \n",
       "353  /r/ebikes/comments/ijop0k/getting_an_ebike_was...        LukeVenable   \n",
       "395  /r/ebikes/comments/tn9ka4/thankfully_i_was_wea...             EERCom   \n",
       "522  /r/ebikes/comments/mf4y8x/the_perfect_bike_doe...         RentalGore   \n",
       "529       /r/ebikes/comments/lq3kgs/ebike_pup_awesome/           nervagon   \n",
       "\n",
       "     n_comments  score text  tb_sentiment  \n",
       "12           63    727                1.0  \n",
       "353          39    212                1.0  \n",
       "395          70    200                1.0  \n",
       "522         118    178                1.0  \n",
       "529          18    178                1.0  "
      ]
     },
     "execution_count": 15,
     "metadata": {},
     "output_type": "execute_result"
    }
   ],
   "source": [
    "df.nlargest(n=5,columns=['tb_sentiment'])"
   ]
  },
  {
   "cell_type": "code",
   "execution_count": 19,
   "id": "4e005736",
   "metadata": {},
   "outputs": [
    {
     "data": {
      "text/plain": [
       "{'neg': 0.048, 'neu': 0.832, 'pos': 0.12, 'compound': 1.0}"
      ]
     },
     "execution_count": 19,
     "metadata": {},
     "output_type": "execute_result"
    }
   ],
   "source": [
    "from vaderSentiment.vaderSentiment import SentimentIntensityAnalyzer\n",
    "analyzer = SentimentIntensityAnalyzer()\n",
    "analyzer.polarity_scores(df['title'])"
   ]
  },
  {
   "cell_type": "markdown",
   "id": "236f9eda",
   "metadata": {},
   "source": [
    "# Summary"
   ]
  },
  {
   "cell_type": "markdown",
   "id": "c7d6282c",
   "metadata": {},
   "source": [
    "Text Blob sentiment analysis showed a mean sentiment of .10 and a median of 0. The histogram shows an extremely high number of values between 0 and .10, which explains why the median is slightly lower. Vader sentiment analysis returned a higher compound value of 1.0, but its other highest component was neutral at .832, which seems consistent with the Text Blob scores being close to 0 (the middle/most \"neutral\" sentiment). Posts with the lowest sentiment scores contain words like \"hate\" and \"terrible\", while posts with the highest sentiment scores contain words like \"best\", \"good\", and \"awesome\". An ebike manufacturer might be interested in using sentiment analysis on posts and comments that mention their brand, to see whether ebike riders are talking about that brand in a positive, negative, or neutral light. "
   ]
  }
 ],
 "metadata": {
  "kernelspec": {
   "display_name": "Python 3 (ipykernel)",
   "language": "python",
   "name": "python3"
  },
  "language_info": {
   "codemirror_mode": {
    "name": "ipython",
    "version": 3
   },
   "file_extension": ".py",
   "mimetype": "text/x-python",
   "name": "python",
   "nbconvert_exporter": "python",
   "pygments_lexer": "ipython3",
   "version": "3.9.7"
  }
 },
 "nbformat": 4,
 "nbformat_minor": 5
}
